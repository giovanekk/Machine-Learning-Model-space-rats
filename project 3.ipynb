{
 "cells": [
  {
   "cell_type": "markdown",
   "metadata": {
    "id": "fQ5V2-gHfKb3"
   },
   "source": [
    "# **Project 3: Space Rats**\n",
    "Remington Katz & Giovane Kim\n",
    "\n",
    "CS 520"
   ]
  },
  {
   "cell_type": "code",
   "execution_count": 1,
   "metadata": {
    "id": "awpvXMz7bVik"
   },
   "outputs": [],
   "source": [
    "import random\n",
    "import copy\n",
    "import math\n",
    "import torch\n",
    "import copy"
   ]
  },
  {
   "cell_type": "markdown",
   "metadata": {
    "id": "4MUkxbnhmRxD"
   },
   "source": [
    "## **Ship and other methods**"
   ]
  },
  {
   "cell_type": "markdown",
   "metadata": {
    "id": "M9WDSXleXmdk"
   },
   "source": [
    "### **Generate the Board**"
   ]
  },
  {
   "cell_type": "code",
   "execution_count": 2,
   "metadata": {
    "id": "4SE2KCAxbPQn"
   },
   "outputs": [],
   "source": [
    "class ship():\n",
    "    def __init__(self, d):\n",
    "        self.dim = d\n",
    "        self.ship_display = [['■' for i in range(d)] for j in range(d)] #■ for blocked i.e. not open\n",
    "        self.open_ship = None\n",
    "        self.start = ()\n",
    "        self.bot_location = None\n",
    "        self.rat_location = None\n",
    "        self.pinged = set()\n",
    "\n",
    "        #Choose a square in the interior to open at random\n",
    "        y = random.randint(1, d-2)\n",
    "        x = random.randint(1, d-2)\n",
    "        self.ship_display[y][x] = 'O' #O for open\n",
    "        #The board display can be imagined as Quadrant IV of a cartesian coordinate system, where the origin is in the top left and you read a coordinate as y spaces down and x spaces to the right\n",
    "        #Iteratively do the following... (from assignment)\n",
    "        while True:\n",
    "            one_open_neighbor = list()\n",
    "            for row in range(1, d-1):\n",
    "                for col in range(1, d-1):\n",
    "                    if self.ship_display[row][col] == '■':\n",
    "                        open_neighbor_count = 0\n",
    "                        if (row+1 <= d-1) and (self.ship_display[row+1][col] == 'O'):\n",
    "                            open_neighbor_count += 1\n",
    "                        if (row-1 >= 0) and (self.ship_display[row-1][col] == 'O'):\n",
    "                            open_neighbor_count += 1\n",
    "                        if (col+1 <= d-1) and (self.ship_display[row][col+1] == 'O'):\n",
    "                            open_neighbor_count += 1\n",
    "                        if (col-1 >= 0) and (self.ship_display[row][col-1] == 'O'):\n",
    "                            open_neighbor_count += 1\n",
    "                        if open_neighbor_count == 1:\n",
    "                            one_open_neighbor.append((row,col))\n",
    "            if len(one_open_neighbor) == 0:\n",
    "                break\n",
    "            random_neighbor = random.sample(one_open_neighbor, 1)[0]\n",
    "            self.ship_display[random_neighbor[0]][random_neighbor[1]] = 'O'\n",
    "        #ship.print_ship(self)\n",
    "\n",
    "        #Open dead ends; pick random closed neighbor and open it\n",
    "        dead_ends_list = list()\n",
    "        for row in range(1, d-1):\n",
    "            for col in range(1, d-1):\n",
    "                if self.ship_display[row][col] == 'O':\n",
    "                    open_neighbor_count = 0\n",
    "                    if (row+1 <= d-1) and (self.ship_display[row+1][col] == 'O'):\n",
    "                        open_neighbor_count += 1\n",
    "                    if (row-1 >= 0) and (self.ship_display[row-1][col] == 'O'):\n",
    "                        open_neighbor_count += 1\n",
    "                    if (col+1 <= d-1) and (self.ship_display[row][col+1] == 'O'):\n",
    "                        open_neighbor_count += 1\n",
    "                    if (col-1 >= 0) and (self.ship_display[row][col-1] == 'O'):\n",
    "                        open_neighbor_count += 1\n",
    "                    if open_neighbor_count == 1:\n",
    "                        dead_ends_list.append((row,col))\n",
    "        half = len(dead_ends_list)//2\n",
    "        dead_ends = random.sample(dead_ends_list, half)\n",
    "        #print(dead_ends_list)\n",
    "        #print(dead_ends)\n",
    "        for dead_end in dead_ends:\n",
    "            dead_end_blocked_neighbor = list()\n",
    "            if (dead_end[0]+1 <= d-1) and (self.ship_display[dead_end[0]+1][dead_end[1]] == '■'):\n",
    "                dead_end_blocked_neighbor.append((dead_end[0]+1, dead_end[1]))\n",
    "            if (dead_end[0]-1 >= 0) and (self.ship_display[dead_end[0]-1][dead_end[1]] == '■'):\n",
    "                dead_end_blocked_neighbor.append((dead_end[0]-1, dead_end[1]))\n",
    "            if (dead_end[1]+1 <= d-1) and (self.ship_display[dead_end[0]][dead_end[1]+1] == '■'):\n",
    "                dead_end_blocked_neighbor.append((dead_end[0], dead_end[1]+1))\n",
    "            if (dead_end[1]-1 >= 0) and (self.ship_display[dead_end[0]][dead_end[1]-1] == '■'):\n",
    "                dead_end_blocked_neighbor.append((dead_end[0], dead_end[1]-1))\n",
    "            #print(dead_end_blocked_neighbor)\n",
    "            if dead_end_blocked_neighbor != []: #Make sure block neighbor was not previously removed\n",
    "                random_blocked_neighbor = random.sample(dead_end_blocked_neighbor, 1)[0]\n",
    "                self.ship_display[random_blocked_neighbor[0]][random_blocked_neighbor[1]] = 'O'\n",
    "\n",
    "        #Close outer edge cells\n",
    "        for i in range(d):\n",
    "            self.ship_display[0][i] = '■'\n",
    "            self.ship_display[d-1][i] = '■'\n",
    "            self.ship_display[i][0] = '■'\n",
    "            self.ship_display[i][d-1] = '■'\n",
    "\n",
    "        self.open_ship = copy.deepcopy(self.ship_display) #Keep a copy of the original ship to see which cells are opened/blocked\n",
    "\n",
    "    #Print a 2D array representing the ship in a way that makes it appear as a maze to a human.\n",
    "    #This version specifically only shows the original open and blocked cells when the maze is generated.\n",
    "    def print_open_ship(self):\n",
    "        for row in self.open_ship:\n",
    "            formatted_row = [\"{:1}\".format(x) for x in row]\n",
    "            print(\" \".join(formatted_row))\n",
    "\n",
    "    def flatten(self, row, col):\n",
    "\t    return row*self.dim + col"
   ]
  },
  {
   "cell_type": "code",
   "execution_count": 3,
   "metadata": {
    "id": "SJKjztX8bpHs"
   },
   "outputs": [],
   "source": [
    "#Print a 2D array representing the ship in a way that makes it appear as a maze to a human.\n",
    "#To be used for the ship display at specific times\n",
    "def print_ship(ship):\n",
    "    for row in ship.ship_display:\n",
    "        formatted_row = [\"{:1}\".format(x) for x in row]\n",
    "        print(\" \".join(formatted_row))"
   ]
  },
  {
   "cell_type": "code",
   "execution_count": 4,
   "metadata": {
    "id": "63r9EU9aFML3"
   },
   "outputs": [],
   "source": [
    "def print_mat(mat):\n",
    "    for row in mat:\n",
    "        formatted_row = [\"{:1}\".format(x) for x in row]\n",
    "        print(\" \".join(formatted_row))"
   ]
  },
  {
   "cell_type": "code",
   "execution_count": 5,
   "metadata": {
    "colab": {
     "base_uri": "https://localhost:8080/"
    },
    "collapsed": true,
    "id": "_zpBZSi6bprm",
    "outputId": "86910e5a-9b76-4b7f-9dfd-6fb6f6d52979"
   },
   "outputs": [
    {
     "name": "stdout",
     "output_type": "stream",
     "text": [
      "■ ■ ■ ■ ■ ■ ■ ■ ■ ■ ■ ■ ■ ■ ■ ■ ■ ■ ■ ■ ■ ■ ■ ■ ■ ■ ■ ■ ■ ■\n",
      "■ O O ■ O O O O O O ■ O O ■ O O ■ O O O O ■ O ■ O O ■ O O ■\n",
      "■ O ■ O O ■ O O O O O O ■ O ■ O ■ O O O ■ O O ■ O ■ O ■ O ■\n",
      "■ O ■ O ■ O O O ■ O O ■ O O O O O O O ■ O O ■ O O ■ O ■ O ■\n",
      "■ O ■ O ■ O O O O ■ O ■ ■ O ■ O ■ ■ ■ O ■ O O O ■ ■ O ■ O ■\n",
      "■ O ■ O O O ■ O O ■ O O O O ■ O O O O O O O ■ ■ O O O O O ■\n",
      "■ O O O O ■ O O ■ O O ■ O O O ■ O O O ■ O O O O O O O ■ O ■\n",
      "■ O ■ O O O O O O ■ O O O O O O O ■ O O ■ O O O O O ■ O O ■\n",
      "■ O O O ■ O ■ O ■ O O ■ ■ O ■ ■ O ■ ■ O O O O O O O O ■ O ■\n",
      "■ O ■ ■ O O O O O O ■ O O O O O O O O O ■ O O O ■ ■ O O O ■\n",
      "■ O O ■ O O O ■ ■ O O O O O ■ ■ O O O O O ■ O O O O O ■ O ■\n",
      "■ O O ■ ■ O O O O O ■ ■ O O O O O ■ O ■ O ■ O ■ O O ■ O O ■\n",
      "■ O O ■ O O O O ■ O O O ■ ■ O O ■ O O O O O O ■ O ■ ■ O ■ ■\n",
      "■ O ■ O O O O O ■ O ■ O O O O ■ O ■ ■ ■ O O ■ O O O O O O ■\n",
      "■ O O O O O ■ O O O O O O O O ■ O ■ O O O O ■ O ■ O ■ ■ O ■\n",
      "■ O ■ O O O O ■ O ■ ■ O O O O O O O ■ ■ O O O O ■ O O ■ O ■\n",
      "■ O ■ O ■ O ■ O O O ■ O ■ O O ■ ■ O O O O O ■ O O O O ■ O ■\n",
      "■ O O ■ ■ O ■ ■ O O O O O O ■ O O O ■ ■ O O ■ O O O ■ O ■ ■\n",
      "■ ■ O O O O O O O O O ■ ■ O ■ O O O ■ O O O O O O O O O O ■\n",
      "■ O ■ ■ ■ O ■ O ■ O ■ O ■ O O ■ O O ■ O ■ O ■ O ■ O ■ O ■ ■\n",
      "■ O O O ■ O O O ■ O O O ■ ■ O O ■ O O O O ■ O O O O O ■ O ■\n",
      "■ O O O O O O O O O ■ ■ O ■ ■ O ■ O O O O O O O ■ ■ O O O ■\n",
      "■ O ■ ■ O O O ■ ■ O O O O O O O O ■ O O O ■ ■ O O O ■ ■ ■ ■\n",
      "■ O O O O O O O O ■ ■ O ■ ■ O ■ O O O O O ■ O ■ ■ O O O O ■\n",
      "■ O O ■ O ■ O O O O O ■ O ■ O O ■ O ■ ■ O O O O O ■ O O O ■\n",
      "■ O ■ O O O O O O ■ O O O O O O O O O O O O ■ ■ O O ■ O O ■\n",
      "■ O O O O ■ ■ ■ ■ ■ O ■ O O O O O ■ O O O O O O ■ O O ■ ■ ■\n",
      "■ O ■ O O O ■ O O O O O ■ ■ O ■ O O ■ O ■ O ■ O O O O O O ■\n",
      "■ O O ■ O ■ O O ■ O ■ O O O O O O ■ ■ O O O O ■ ■ O O O ■ ■\n",
      "■ ■ ■ ■ ■ ■ ■ ■ ■ ■ ■ ■ ■ ■ ■ ■ ■ ■ ■ ■ ■ ■ ■ ■ ■ ■ ■ ■ ■ ■\n",
      "\n",
      "■ ■ ■ ■ ■ ■ ■ ■ ■ ■ ■ ■ ■ ■ ■ ■ ■ ■ ■ ■ ■ ■ ■ ■ ■ ■ ■ ■ ■ ■\n",
      "■ O O ■ O O O O O O ■ O O ■ O O ■ O O O O ■ O ■ O O ■ O O ■\n",
      "■ O ■ O O ■ O O O O O O ■ O ■ O ■ O O O ■ O O ■ O ■ O ■ O ■\n",
      "■ O ■ O ■ O O O ■ O O ■ O O O O O O O ■ O O ■ O O ■ O ■ O ■\n",
      "■ O ■ O ■ O O O O ■ O ■ ■ O ■ O ■ ■ ■ O ■ O O O ■ ■ O ■ O ■\n",
      "■ O ■ O O O ■ O O ■ O O O O ■ O O O O O O O ■ ■ O O O O O ■\n",
      "■ O O O O ■ O O ■ O O ■ O O O ■ O O O ■ O O O O O O O ■ O ■\n",
      "■ O ■ O O O O O O ■ O O O O O O O ■ O O ■ O O O O O ■ O O ■\n",
      "■ O O O ■ O ■ O ■ O O ■ ■ O ■ ■ O ■ ■ O O O O O O O O ■ O ■\n",
      "■ O ■ ■ O O O O O O ■ O O O O O O O O O ■ O O O ■ ■ O O O ■\n",
      "■ O O ■ O O O ■ ■ O O O O O ■ ■ O O O O O ■ O O O O O ■ O ■\n",
      "■ O O ■ ■ O O O O O ■ ■ O O O O O ■ O ■ O ■ O ■ O O ■ O O ■\n",
      "■ O O ■ O O O O ■ O O O ■ ■ O O ■ O O O O O O ■ O ■ ■ O ■ ■\n",
      "■ O ■ O O O O O ■ O ■ O O O O ■ O ■ ■ ■ O O ■ O O O O O O ■\n",
      "■ O O O O O ■ O O O O O O O O ■ O ■ O O O O ■ O ■ O ■ ■ O ■\n",
      "■ O ■ O O O O ■ O ■ ■ O O O O O O O ■ ■ O O O O ■ O O ■ O ■\n",
      "■ O ■ O ■ O ■ O O O ■ O ■ O O ■ ■ O O O O O ■ O O O O ■ O ■\n",
      "■ O O ■ ■ O ■ ■ O O O O O O ■ O O O ■ ■ O O ■ O O O ■ O ■ ■\n",
      "■ ■ O O O O O O O O O ■ ■ O ■ O O O ■ O O O O O O O O O O ■\n",
      "■ O ■ ■ ■ O ■ O ■ O ■ O ■ O O ■ O O ■ O ■ O ■ O ■ O ■ O ■ ■\n",
      "■ O O O ■ O O O ■ O O O ■ ■ O O ■ O O O O ■ O O O O O ■ O ■\n",
      "■ O O O O O O O O O ■ ■ O ■ ■ O ■ O O O O O O O ■ ■ O O O ■\n",
      "■ O ■ ■ O O O ■ ■ O O O O O O O O ■ O O O ■ ■ O O O ■ ■ ■ ■\n",
      "■ O O O O O O O O ■ ■ O ■ ■ O ■ O O O O O ■ O ■ ■ O O O O ■\n",
      "■ O O ■ O ■ O O O O O ■ O ■ O O ■ O ■ ■ O O O O O ■ O O O ■\n",
      "■ O ■ O O O O O O ■ O O O O O O O O O O O O ■ ■ O O ■ O O ■\n",
      "■ O O O O ■ ■ ■ ■ ■ O ■ O O O O O ■ O O O O O O ■ O O ■ ■ ■\n",
      "■ O ■ O O O ■ O O O O O ■ ■ O ■ O O ■ O ■ O ■ O O O O O O ■\n",
      "■ O O ■ O ■ O O ■ O ■ O O O O O O ■ ■ O O O O ■ ■ O O O ■ ■\n",
      "■ ■ ■ ■ ■ ■ ■ ■ ■ ■ ■ ■ ■ ■ ■ ■ ■ ■ ■ ■ ■ ■ ■ ■ ■ ■ ■ ■ ■ ■\n"
     ]
    }
   ],
   "source": [
    "#An example of the ship and it being printed two ways, printing the originally generated ship as well as the current display\n",
    "ship_1 = ship(30)\n",
    "ship_1.print_open_ship()\n",
    "print()\n",
    "print_ship(ship_1)"
   ]
  },
  {
   "cell_type": "markdown",
   "metadata": {
    "id": "ym3PfAp0ga17"
   },
   "source": [
    "### **Place Bot, Rat**\n",
    "\n"
   ]
  },
  {
   "cell_type": "code",
   "execution_count": 6,
   "metadata": {
    "id": "Ebxoe6l5hNYu"
   },
   "outputs": [],
   "source": [
    "#Place elements on the ship\n",
    "def place_element(ship, element):\n",
    "    random_cell_state = None\n",
    "    while random_cell_state != 'O':\n",
    "        row = random.randint(0, ship.dim-1)\n",
    "        col = random.randint(0, ship.dim-1)\n",
    "        if ship.open_ship[row][col] == 'O':\n",
    "            ship.ship_display[row][col] = element\n",
    "            random_cell_state = 'O'\n",
    "            if element == 'B':\n",
    "                ship.start = (row,col)\n",
    "                ship.bot_location = ship.start\n",
    "            if element == 'R':\n",
    "                ship.rat_location = (row,col)\n",
    "    return ship"
   ]
  },
  {
   "cell_type": "markdown",
   "metadata": {
    "id": "qdUjaizRBkX3"
   },
   "source": [
    "#### test"
   ]
  },
  {
   "cell_type": "code",
   "execution_count": 7,
   "metadata": {
    "colab": {
     "base_uri": "https://localhost:8080/"
    },
    "collapsed": true,
    "id": "0YZNk7jqgkEr",
    "outputId": "580dc6b8-5caa-4733-8118-fce80c027dbe"
   },
   "outputs": [
    {
     "name": "stdout",
     "output_type": "stream",
     "text": [
      "(6, 8)\n",
      "(6, 8)\n",
      "(2, 3)\n",
      "■ ■ ■ ■ ■ ■ ■ ■ ■ ■\n",
      "■ O O ■ O ■ O O ■ ■\n",
      "■ O O R O O ■ O O ■\n",
      "■ ■ ■ O ■ ■ O ■ O ■\n",
      "■ ■ O O O ■ O O O ■\n",
      "■ O O ■ O O O ■ O ■\n",
      "■ O ■ O O ■ ■ O B ■\n",
      "■ O O O ■ O O O O ■\n",
      "■ O ■ O O O ■ O O ■\n",
      "■ ■ ■ ■ ■ ■ ■ ■ ■ ■\n"
     ]
    }
   ],
   "source": [
    "d = 10\n",
    "ship_2 = ship(d)\n",
    "\n",
    "place_element(ship_2,'B')\n",
    "place_element(ship_2,'R')\n",
    "\n",
    "print(ship_2.start)\n",
    "print(ship_2.bot_location)\n",
    "print(ship_2.rat_location)\n",
    "print_ship(ship_2)\n",
    "#bot1(ship_2)"
   ]
  },
  {
   "cell_type": "markdown",
   "metadata": {
    "id": "-aIXd5L5UzFA"
   },
   "source": [
    "### **3 Actions**"
   ]
  },
  {
   "cell_type": "code",
   "execution_count": 8,
   "metadata": {
    "id": "aUVvEpQRerR2"
   },
   "outputs": [],
   "source": [
    "def neighbors_blocked(ship, bot_location_map): #Count number of cells neighboring bot that are blocked\n",
    "  num_neighbors_currently_blocked = 0\n",
    "  y = ship.bot_location[0]\n",
    "  x = ship.bot_location[1]\n",
    "  for i in range(-1,2):\n",
    "    for j in range(-1,2):\n",
    "      if not (i == 0 and j == 0):\n",
    "        if bot_location_map[y + i][x + j] == 0:\n",
    "          num_neighbors_currently_blocked += 1\n",
    "  return num_neighbors_currently_blocked"
   ]
  },
  {
   "cell_type": "code",
   "execution_count": 9,
   "metadata": {
    "id": "Qe07Z5ECleFC"
   },
   "outputs": [],
   "source": [
    "def ping(ship, alpha, rat_KB): #Return ping (1) or no ping (0), or location is shared between bot and rat (-1)\n",
    "  if ship.bot_location == ship.rat_location:\n",
    "    return -1 #Bot and rat in same location\n",
    "  bot_y = ship.bot_location[0]\n",
    "  bot_x = ship.bot_location[1]\n",
    "  rat_y = ship.rat_location[0]\n",
    "  rat_x = ship.rat_location[1]\n",
    "  manhattan_dist = abs(bot_y-rat_y) + abs(bot_x-rat_x)\n",
    "  prob_hearing_ping = math.e ** (-1 * alpha * (manhattan_dist - 1))\n",
    "  if random.uniform(0,1) < prob_hearing_ping:\n",
    "    return 1 #ping\n",
    "  else:\n",
    "    return 0 #no ping"
   ]
  },
  {
   "cell_type": "code",
   "execution_count": 10,
   "metadata": {
    "id": "i0_vapR3tfXD"
   },
   "outputs": [],
   "source": [
    "def attempt_to_move(ship, most_common_direction): #Update ship display and bot location if bot can move\n",
    "  y = ship.bot_location[0]\n",
    "  x = ship.bot_location[1]\n",
    "  if most_common_direction == 'U':\n",
    "    if ship.ship_display[y-1][x] != '■':\n",
    "      ship.ship_display[y-1][x] = 'B'\n",
    "      ship.bot_location = (y-1,x)\n",
    "      ship.ship_display[y][x] = 'O'\n",
    "      return True #Bot moved\n",
    "    else:\n",
    "      return False #Can't walk into a wall\n",
    "  if most_common_direction == 'D':\n",
    "    if ship.ship_display[y+1][x] != '■':\n",
    "      ship.ship_display[y+1][x] = 'B'\n",
    "      ship.bot_location = (y+1,x)\n",
    "      ship.ship_display[y][x] = 'O'\n",
    "      return True #Bot moved\n",
    "    else:\n",
    "      return False #Can't walk into a wall\n",
    "  if most_common_direction == 'L':\n",
    "    if ship.ship_display[y][x-1] != '■':\n",
    "      ship.ship_display[y][x-1] = 'B'\n",
    "      ship.bot_location = (y,x-1)\n",
    "      ship.ship_display[y][x] = 'O'\n",
    "      return True #Bot moved\n",
    "    else:\n",
    "      return False #Can't walk into a wall\n",
    "  if most_common_direction == 'R':\n",
    "    if ship.ship_display[y][x+1] != '■':\n",
    "      ship.ship_display[y][x+1] = 'B'\n",
    "      ship.bot_location = (y,x+1)\n",
    "      ship.ship_display[y][x] = 'O'\n",
    "      return True #Bot moved\n",
    "    else:\n",
    "      return False #Can't walk into a wall"
   ]
  },
  {
   "cell_type": "markdown",
   "metadata": {
    "id": "iZy2G7QjuWqc"
   },
   "source": [
    "### **Helper Methods**"
   ]
  },
  {
   "cell_type": "code",
   "execution_count": 11,
   "metadata": {
    "id": "41jV-g68hmRb"
   },
   "outputs": [],
   "source": [
    "def print_knowledge_base(knowledge_base): #to be used for the bot KB, the rat KB, or the matrix of blocked neighbors\n",
    "  for row in knowledge_base:\n",
    "    formatted_row = [\"{:1}\".format(x) for x in row]\n",
    "    print(\" \".join(formatted_row))"
   ]
  },
  {
   "cell_type": "code",
   "execution_count": 12,
   "metadata": {
    "id": "VDEFY9d-Sg5G"
   },
   "outputs": [],
   "source": [
    "def num_blocked_neighbors(ship): #needs to be computed once only, gets the number of blocked neighbors for each cell in the ship\n",
    "  blocked_neighbor_matrix = [[0 for a in range(d)] for b in range(d)]\n",
    "  for row in range(0,d):\n",
    "    for col in range(0,d):\n",
    "      num_neighbors_currently_blocked = 0\n",
    "      for i in range(-1,2):\n",
    "        for j in range(-1,2):\n",
    "          if (not (i == 0 and j == 0)) and (i+row>=0) and (j+col>=0) and (i+row<=d-1) and (j+col<=d-1):\n",
    "            if ship.open_ship[row + i][col + j] == '■':\n",
    "              num_neighbors_currently_blocked += 1\n",
    "      blocked_neighbor_matrix[row][col] =  num_neighbors_currently_blocked\n",
    "  return blocked_neighbor_matrix"
   ]
  },
  {
   "cell_type": "code",
   "execution_count": 13,
   "metadata": {
    "id": "RwH0z8fjSeuZ"
   },
   "outputs": [],
   "source": [
    "def identify_direction(bot_location_map): #identify most commonly open direction of remaining squares that the bot could be on\n",
    "  up_count = 0\n",
    "  down_count = 0\n",
    "  left_count = 0\n",
    "  right_count = 0\n",
    "  for row in range(0,d):\n",
    "    for col in range(0,d):\n",
    "      if bot_location_map[row][col] != 0:\n",
    "        if (row-1>=0) and (bot_location_map[row-1][col] != 0):\n",
    "          up_count += 1\n",
    "        if (row+1<=d-1) and (bot_location_map[row+1][col] != 0):\n",
    "          down_count += 1\n",
    "        if (col-1>=0) and (bot_location_map[row][col-1] != 0):\n",
    "          left_count += 1\n",
    "        if (col+1<=d-1) and (bot_location_map[row][col+1] != 0):\n",
    "          right_count += 1\n",
    "\n",
    "  max_count = max(up_count, down_count, left_count, right_count)\n",
    "  direction_to_choose = []\n",
    "  if up_count == max_count:\n",
    "    direction_to_choose.append('U')\n",
    "  if down_count == max_count:\n",
    "    direction_to_choose.append('D')\n",
    "  if left_count == max_count:\n",
    "    direction_to_choose.append('L')\n",
    "  if right_count == max_count:\n",
    "    direction_to_choose.append('R')\n",
    "  return random.choice(direction_to_choose)"
   ]
  },
  {
   "cell_type": "code",
   "execution_count": 14,
   "metadata": {
    "id": "OqPBbRVXScsw"
   },
   "outputs": [],
   "source": [
    "def count_bot_locations(bot_location_map): #Counts the number of open (not blocked) cells on the map\n",
    "  locations = 0\n",
    "  for row in range(0,d):\n",
    "    for col in range(0,d):\n",
    "      if bot_location_map[row][col] == 2:\n",
    "        locations += 1\n",
    "  return locations"
   ]
  },
  {
   "cell_type": "code",
   "execution_count": 15,
   "metadata": {
    "id": "9vMkpeejSZKu"
   },
   "outputs": [],
   "source": [
    "def set_initial_probs(rat_location_probs):\n",
    "  open_counter = 0\n",
    "  for row in range(0,d): #Set inital cell probs to 0 if blocked cell\n",
    "    for col in range(0,d):\n",
    "      if rat_location_probs[row][col] == '■':\n",
    "        rat_location_probs[row][col] = 0\n",
    "      else:\n",
    "        open_counter += 1\n",
    "  for row in range(0,d): #Set initial cell probs to 1 divided by total open cells if open cell\n",
    "    for col in range(0,d):\n",
    "      if rat_location_probs[row][col] != 0:\n",
    "        rat_location_probs[row][col] = 1 / open_counter"
   ]
  },
  {
   "cell_type": "markdown",
   "metadata": {
    "id": "MeXCshB6ueZD"
   },
   "source": [
    "#### BFS"
   ]
  },
  {
   "cell_type": "code",
   "execution_count": 16,
   "metadata": {
    "id": "gP3Lh6mkH1r_"
   },
   "outputs": [],
   "source": [
    "#Helper method for ship traversal - utilize bfs to find shortest path\n",
    "def get_shortest_path(ship, rat_predicted_location):\n",
    "  neighbors = []\n",
    "  visited = set()\n",
    "  prev = dict()\n",
    "  neighbors.append(ship.bot_location)\n",
    "  #print('neighbors', neighbors)\n",
    "  #print('bot location', ship.bot_location)\n",
    "  visited.add(ship.bot_location)\n",
    "  prev[ship.bot_location] = None\n",
    "  board = ship.ship_display\n",
    "  found = False\n",
    "  while(True):\n",
    "    #print_ship(ship)\n",
    "    if len(neighbors) < 1:\n",
    "      break\n",
    "    row, col = neighbors.pop(0)\n",
    "    #print('3', (row,col))\n",
    "    #print('4', rat_predicted_location)\n",
    "    if((row,col) == rat_predicted_location): #not rat's actual location, rather where rat is most likely to be\n",
    "      path = retrace(prev, (row, col))\n",
    "      return path\n",
    "      break\n",
    "\n",
    "    if(row - 1 >= 0 and ship.ship_display[row-1][col] != '■' and (row-1, col) not in visited):\n",
    "      neighbors.append((row-1, col))\n",
    "      visited.add((row-1, col))\n",
    "      prev[(row-1, col)] = (row, col)\n",
    "\n",
    "    if(row + 1 < ship.dim and ship.ship_display[row+1][col] != '■' and (row+1, col) not in visited):\n",
    "      neighbors.append((row+1, col))\n",
    "      visited.add((row+1, col))\n",
    "      prev[(row+1, col)] = (row, col)\n",
    "\n",
    "    if(col-1 >= 0 and ship.ship_display[row][col-1] != '■' and (row, col-1) not in visited):\n",
    "      neighbors.append((row, col-1))\n",
    "      visited.add((row, col-1))\n",
    "      prev[(row, col-1)] = (row, col)\n",
    "\n",
    "    if(col + 1 < ship.dim and ship.ship_display[row][col+1] != '■' and (row, col+1) not in visited):\n",
    "      neighbors.append((row, col+1))\n",
    "      visited.add((row, col+1))\n",
    "      prev[(row, col+1)] = (row, col)\n",
    "\n",
    "def retrace(prev, start):\n",
    "  route = []\n",
    "  while(prev[start] != None):\n",
    "    route.append(start)\n",
    "    start = prev[start]\n",
    "  route.reverse()\n",
    "  #print(route)\n",
    "  return route"
   ]
  },
  {
   "cell_type": "markdown",
   "metadata": {
    "id": "eQbQNG7WmRxH"
   },
   "source": [
    "## **Stationary Rat**"
   ]
  },
  {
   "cell_type": "markdown",
   "metadata": {
    "id": "Hm2hdZ6pkcwl"
   },
   "source": [
    "### Bot"
   ]
  },
  {
   "cell_type": "code",
   "execution_count": null,
   "metadata": {
    "id": "_mPMp--CmHuS"
   },
   "outputs": [],
   "source": [
    "#the first phase of this bot is exactly the same as the baseline bot\n",
    "#the second phase is different. We keep track of the highest probability of rat to distance ratio cell.\n",
    "def bot2(ship, alpha, xData, yData):\n",
    "  #initialize the action varibles\n",
    "  movements_taken = 0\n",
    "  cell_sensing_actions = 0\n",
    "  rat_detecting_actions = 0\n",
    "  #initialize direction max out\n",
    "  direction_max_out = 0\n",
    "  #initialize bot KB\n",
    "  bot_location_map = copy.deepcopy(ship.open_ship)\n",
    "  bot_location_known = False\n",
    "  direction_to_move = None\n",
    "  blocked_neighb_counts = num_blocked_neighbors(ship)\n",
    "  for i in range(d):\n",
    "    for j in range(d):\n",
    "      if bot_location_map[i][j] == '■':\n",
    "        bot_location_map[i][j] = 0\n",
    "      elif bot_location_map[i][j]=='O':\n",
    "        bot_location_map[i][j] = 2\n",
    "      elif bot_location_map[i][j]=='F':\n",
    "        bot_location_map[i][j] = 1\n",
    "\n",
    "  #initialize rat KB\n",
    "  rat_location_probs = copy.deepcopy(ship.open_ship)\n",
    "  set_initial_probs(rat_location_probs)\n",
    "  rat_location_known = False\n",
    "\n",
    "  # PHASE 1\n",
    "  while not bot_location_known:\n",
    "    num_neighb_blckd = neighbors_blocked(ship, bot_location_map) #senses num of blocked neighbors\n",
    "    cell_sensing_actions += 1\n",
    "\n",
    "    #Turn bot locations KB into a tensor:\n",
    "    bot_tensor = torch.tensor(bot_location_map).flatten()\n",
    "    #Turn rat location probabilities KB into a tensor:\n",
    "    KB = [[0 for i in range(d)] for j in range(d)]\n",
    "    for i in range(d):\n",
    "      for j in range(d):\n",
    "        probability = rat_location_probs[i][j]\n",
    "        KB[i][j] = probability\n",
    "    rat_tensor = torch.tensor(KB).flatten()\n",
    "    #Add board and KB data to training/testing data\n",
    "    board_KB_tensor = torch.cat((bot_tensor,rat_tensor), dim=0)\n",
    "    xData = torch.cat((xData, board_KB_tensor), dim=0)\n",
    "    yData = torch.cat((yData, torch.tensor([movements_taken+rat_detecting_actions+cell_sensing_actions])), dim=0)\n",
    "\n",
    "    for row in range(0,d): #rule out all locations in knowledge base that do not agree with num_neighb_blckd\n",
    "      for col in range(0,d):\n",
    "        if (blocked_neighb_counts[row][col] != num_neighb_blckd) and (bot_location_map[row][col] == 2):\n",
    "          bot_location_map[row][col] = 1 #F for the bot cannot possibly be there\n",
    "\n",
    "    direction_to_move = identify_direction(bot_location_map) #get the direction to move the bot in\n",
    "\n",
    "#weird edge case fix\n",
    "    if random.uniform(0,1) < 0.2 and direction_max_out < 1: #Sometimes choose a random direction to avoid getting caught in a loop\n",
    "      #print('random')\n",
    "      prob = random.uniform(0,1)\n",
    "      if prob < 0.25:\n",
    "        hold_this_direction = 'U'\n",
    "      elif prob < 0.5:\n",
    "        hold_this_direction = 'D'\n",
    "      elif prob < 0.75:\n",
    "        hold_this_direction = 'L'\n",
    "      else:\n",
    "        hold_this_direction = 'R'\n",
    "      direction_max_out = 5\n",
    "    if direction_max_out > 0:\n",
    "      direction_max_out -= 1\n",
    "      direction_to_move = hold_this_direction\n",
    "\n",
    "    if random.uniform(0,1) < 0.1:\n",
    "      prob = random.uniform(0,1)\n",
    "      if prob < 0.25:\n",
    "        direction_to_move = 'U'\n",
    "      elif prob < 0.5:\n",
    "        direction_to_move = 'D'\n",
    "      elif prob < 0.75:\n",
    "        direction_to_move = 'L'\n",
    "      else:\n",
    "        direction_to_move = 'R'\n",
    "\n",
    "\n",
    "    moved = attempt_to_move(ship, direction_to_move) #move the bot on the ship display if possible\n",
    "\n",
    "\n",
    "    if moved: #If bot moved, rule out all locations where bot could not move in that direction\n",
    "      movements_taken += 1\n",
    "\n",
    "      #Turn bot locations KB into a tensor:\n",
    "      bot_tensor = torch.tensor(bot_location_map).flatten()\n",
    "      #Turn rat location probabilities KB into a tensor:\n",
    "      KB = [[0 for i in range(d)] for j in range(d)]\n",
    "      for i in range(d):\n",
    "        for j in range(d):\n",
    "          probability = rat_location_probs[i][j]\n",
    "          KB[i][j] = probability\n",
    "      rat_tensor = torch.tensor(KB).flatten()\n",
    "      #Add board and KB data to training/testing data\n",
    "      board_KB_tensor = torch.cat((bot_tensor,rat_tensor), dim=0)\n",
    "      xData = torch.cat((xData, board_KB_tensor), dim=0)\n",
    "      yData = torch.cat((yData, torch.tensor([movements_taken+rat_detecting_actions+cell_sensing_actions])), dim=0)\n",
    "\n",
    "      for row in range(0,d):\n",
    "        for col in range(0,d):\n",
    "          if direction_to_move == 'U':\n",
    "            if (row-1>=0) and (ship.open_ship[row-1][col] == '■') and (bot_location_map[row][col] != 0):\n",
    "              bot_location_map[row][col] = 1\n",
    "          if direction_to_move == 'D':\n",
    "            if (row+1<=d-1) and (ship.open_ship[row+1][col] == '■') and (bot_location_map[row][col] != 0):\n",
    "              bot_location_map[row][col] = 1\n",
    "          if direction_to_move == 'L':\n",
    "            if (col-1>=0) and (ship.open_ship[row][col-1] == '■') and (bot_location_map[row][col] != 0):\n",
    "              bot_location_map[row][col] = 1\n",
    "          if direction_to_move == 'R':\n",
    "            if (col+1<=d-1) and (ship.open_ship[row][col+1] == '■') and (bot_location_map[row][col] != 0):\n",
    "              bot_location_map[row][col] = 1\n",
    "\n",
    "      bot_location_map_copy = [[None for a in range(d)] for b in range(d)] #Update cells where bot could be by 1 cell in appropriate direction ('O' cells move 1 in appropriate direction)\n",
    "      for row in range(0,d):\n",
    "        for col in range(0,d):\n",
    "          if bot_location_map[row][col] == 0:\n",
    "            bot_location_map_copy[row][col] = 0\n",
    "          elif (direction_to_move == 'U') and (row+1<=d-1) and (bot_location_map[row+1][col] == 2):\n",
    "            bot_location_map_copy[row][col] = 2\n",
    "          elif (direction_to_move == 'D') and (row-1>=0) and (bot_location_map[row-1][col] == 2):\n",
    "            bot_location_map_copy[row][col] = 2\n",
    "          elif (direction_to_move == 'L') and (col+1<=d-1) and (bot_location_map[row][col+1] == 2):\n",
    "            bot_location_map_copy[row][col] = 2\n",
    "          elif (direction_to_move == 'R') and (col-1>=0) and (bot_location_map[row][col-1] == 2):\n",
    "            bot_location_map_copy[row][col] = 2\n",
    "          else:\n",
    "            bot_location_map_copy[row][col] = 1\n",
    "      bot_location_map = bot_location_map_copy\n",
    "\n",
    "    else: #If bot did not move, rule out all locations where bot could move in that direction\n",
    "      for row in range(0,d):\n",
    "        for col in range(0,d):\n",
    "          if bot_location_map[row][col] == 'O':\n",
    "            if direction_to_move == 'U':\n",
    "              if (row-1>=0) and (ship.open_ship[row-1][col] != '■'):\n",
    "                bot_location_map[row][col] = 1\n",
    "            if direction_to_move == 'D':\n",
    "              if (row+1<=d-1) and (ship.open_ship[row+1][col] != '■'):\n",
    "                bot_location_map[row][col] = 1\n",
    "            if direction_to_move == 'L':\n",
    "              if (col-1>=0) and (ship.open_ship[row][col-1] != '■'):\n",
    "                bot_location_map[row][col] = 1\n",
    "            if direction_to_move == 'R':\n",
    "              if (col+1<=d-1) and (ship.open_ship[row][col+1] != '■'):\n",
    "                bot_location_map[row][col] = 1\n",
    "\n",
    "\n",
    "    if count_bot_locations(bot_location_map) == 1: #Successfully found bot's location\n",
    "      bot_location_known = True\n",
    "\n",
    "  bot_location = ship.bot_location\n",
    "\n",
    "  # PHASE 2:\n",
    "  #Instead of just moving once at time, the bot will move to the location with the highest probability/distance ratio and then ping again\n",
    "  #the exception being if the cell it is currently in has a probability higher than a given number\n",
    "\n",
    "  while not rat_location_known:\n",
    "    pinged = ping(ship, alpha, rat_location_probs) #use the sensor\n",
    "    rat_detecting_actions += 1\n",
    "\n",
    "\n",
    "    #Turn bot locations KB into a tensor:\n",
    "    bot_tensor = torch.tensor(bot_location_map).flatten()\n",
    "    #Turn rat location probabilities KB into a tensor:\n",
    "    KB = [[0 for i in range(d)] for j in range(d)]\n",
    "    for i in range(d):\n",
    "      for j in range(d):\n",
    "        probability = rat_location_probs[i][j]\n",
    "        KB[i][j] = probability\n",
    "    rat_tensor = torch.tensor(KB).flatten()\n",
    "    #Add board and KB data to training/testing data\n",
    "    board_KB_tensor = torch.cat((bot_tensor,rat_tensor), dim=0)\n",
    "    xData = torch.cat((xData, board_KB_tensor), dim=0)\n",
    "    yData = torch.cat((yData, torch.tensor([movements_taken+rat_detecting_actions+cell_sensing_actions])), dim=0)\n",
    "\n",
    "\n",
    "    #SET PROBABILITIES BASED ON PING\n",
    "    if pinged == -1: #Bot and rat are in same square\n",
    "      rat_location_known = True\n",
    "\n",
    "    if pinged == 1: #Bot heard ping (rat not in the current cell)\n",
    "      ship.pinged.add(ship.bot_location)\n",
    "      for row in range(0,d):\n",
    "        for col in range(0,d): # new prob times old prob relative to dist between bot and rat\n",
    "          rat_location_probs[row][col] = (math.e ** (-1 * alpha * ((abs(row-ship.bot_location[0]) + abs(col-ship.bot_location[1])) - 1))) * (rat_location_probs[row][col]) / (math.e ** (-1 * alpha * ((abs(ship.bot_location[0]-ship.rat_location[0]) + abs(ship.bot_location[1]-ship.rat_location[1])) - 1)))\n",
    "          if rat_location_probs[row][col] < 0: # 1Q Rat is not where bot just was, so make the odds of the rat being there small but nonzero\n",
    "            rat_location_probs[row][col] = 0.0000000000000001\n",
    "\n",
    "    if pinged == 0: #Bot does not hear ping (rat not in the current cell)\n",
    "      ship.pinged.add(ship.bot_location)\n",
    "      for row in range(0,d):\n",
    "        for col in range(0,d):\n",
    "          rat_location_probs[row][col] = (1 - (math.e ** (-1 * alpha * ((abs(row-ship.bot_location[0]) + abs(col-ship.bot_location[1])) - 1)))) * (rat_location_probs[row][col]) / (1 - (math.e ** (-1 * alpha * ((abs(ship.bot_location[0]-ship.rat_location[0]) + abs(ship.bot_location[1]-ship.rat_location[1])) - 1))))\n",
    "          if rat_location_probs[row][col] < 0: # 1Q Rat is not where bot just was, so make the odds of the rat being there small but nonzero\n",
    "            rat_location_probs[row][col] = 0.0000000000000001\n",
    "\n",
    "\n",
    "    highest_ratio_location = (None,None) #stores the coordinates of the highest probability/distance ratio\n",
    "    max_ratio = 0\n",
    "\n",
    "    for row in range(0,d): #get cell with highest prob/dist ratio\n",
    "      for col in range(0,d):\n",
    "        if rat_location_probs[row][col] != 0 and ship.bot_location != (row,col):\n",
    "          dist = len(get_shortest_path(ship,(row,col)))\n",
    "          if (row,col) in ship.pinged:\n",
    "            rat_location_probs[row][col] = 0\n",
    "          else:\n",
    "            if rat_location_probs[row][col]/dist > max_ratio and (row,col) != ship.bot_location:\n",
    "              max_ratio = rat_location_probs[row][col]\n",
    "              highest_ratio_location = (row,col)\n",
    "\n",
    "    path = get_shortest_path(ship, highest_ratio_location) #find shortest path\n",
    "    if path == None:\n",
    "      break\n",
    "    else:\n",
    "      original_path_length = len(path)\n",
    "\n",
    "\n",
    "    if pinged == 0: #if the bot did not hear a ping, move the bot all the way to the cell more times\n",
    "      distance_walked = 0\n",
    "      while distance_walked<original_path_length/20*alpha:\n",
    "        i = 0\n",
    "        next_cell = path[i]\n",
    "        bot_prev_location = ship.bot_location\n",
    "        ship.ship_display[next_cell[0]][next_cell[1]] = 'B'\n",
    "        ship.ship_display[bot_prev_location[0]][bot_prev_location[1]] = 'O'\n",
    "        ship.bot_location = next_cell\n",
    "        movements_taken += 1\n",
    "\n",
    "\n",
    "        #Turn bot locations KB into a tensor:\n",
    "        bot_tensor = torch.tensor(bot_location_map).flatten()\n",
    "        #Turn rat location probabilities KB into a tensor:\n",
    "        KB = [[0 for i in range(d)] for j in range(d)]\n",
    "        for i in range(d):\n",
    "          for j in range(d):\n",
    "            probability = rat_location_probs[i][j]\n",
    "            KB[i][j] = probability\n",
    "        rat_tensor = torch.tensor(KB).flatten()\n",
    "        #Add board and KB data to training/testing data\n",
    "        board_KB_tensor = torch.cat((bot_tensor,rat_tensor), dim=0)\n",
    "        xData = torch.cat((xData, board_KB_tensor), dim=0)\n",
    "        yData = torch.cat((yData, torch.tensor([movements_taken+rat_detecting_actions+cell_sensing_actions])), dim=0)\n",
    "\n",
    "        distance_walked += 1\n",
    "        #check to see if the cell the bot is currently in has a probability higher than 1%. If so, ping again.\n",
    "        if rat_location_probs[ship.bot_location[0]][ship.bot_location[1]] >=0.01:\n",
    "          break\n",
    "        i +=1\n",
    "    elif pinged == 1: #if the bot heard a ping, move the bot one square along the path\n",
    "      next_cell = path[0]\n",
    "      bot_prev_location = ship.bot_location\n",
    "      ship.ship_display[next_cell[0]][next_cell[1]] = 'B'\n",
    "      ship.ship_display[bot_prev_location[0]][bot_prev_location[1]] = 'O'\n",
    "      ship.bot_location = next_cell\n",
    "      movements_taken += 1\n",
    "\n",
    "      #Turn bot locations KB into a tensor:\n",
    "      bot_tensor = torch.tensor(bot_location_map).flatten()\n",
    "      #Turn rat location probabilities KB into a tensor:\n",
    "      KB = [[0 for i in range(d)] for j in range(d)]\n",
    "      for i in range(d):\n",
    "        for j in range(d):\n",
    "          probability = rat_location_probs[i][j]\n",
    "          KB[i][j] = probability\n",
    "      rat_tensor = torch.tensor(KB).flatten()\n",
    "      #Add board and KB data to training/testing data\n",
    "      KB_tensor = torch.cat((bot_tensor,rat_tensor), dim=0)\n",
    "      xData = torch.cat((xData, KB_tensor), dim=0)\n",
    "      yData = torch.cat((yData, torch.tensor([movements_taken+rat_detecting_actions+cell_sensing_actions])), dim=0)\n",
    "\n",
    "  return movements_taken + cell_sensing_actions + rat_detecting_actions, movements_taken, cell_sensing_actions, rat_detecting_actions, xData, yData"
   ]
  },
  {
   "cell_type": "markdown",
   "metadata": {
    "id": "Fgag1JsDxbwd"
   },
   "source": [
    "**Generate Training Data**"
   ]
  },
  {
   "cell_type": "code",
   "execution_count": 129,
   "metadata": {
    "colab": {
     "base_uri": "https://localhost:8080/"
    },
    "collapsed": true,
    "id": "ylR5Fvqkxtmy",
    "outputId": "a438aa46-b799-4d0e-baba-eb06950dea17"
   },
   "outputs": [],
   "source": [
    "total_moves =0\n",
    "games = 500\n",
    "\n",
    "xTrainingData= torch.empty((0))\n",
    "yTrainingData= torch.empty((0))\n",
    "\n",
    "d=30\n",
    "\n",
    "ship = ship(d)\n",
    "\n",
    "for game in range(games):\n",
    "  ship.pinged = set()\n",
    "  xTrain = torch.empty((0))\n",
    "  yTrain = torch.empty((0))\n",
    "\n",
    "  #reset ship_display\n",
    "  for i in range(d):\n",
    "    for j in range(d):\n",
    "      if ship.ship_display[i][j] != '■':\n",
    "        ship.ship_display[i][j] = 'O'\n",
    "\n",
    "  #Place bot in ship\n",
    "  place_element(ship,'B')\n",
    "  #Place rat in ship\n",
    "  place_element(ship,'R')\n",
    "\n",
    "\n",
    "  total_moves, movements_taken, cell_sensing_actions, rat_detecting_actions, xTrain, yTrain = bot2(ship, 0.1, xTrain, yTrain)\n",
    "  yTrain = movements_taken+cell_sensing_actions+rat_detecting_actions-yTrain\n",
    "\n",
    "  xTrain = xTrain.reshape(-1,1800)\n",
    "  xTrainingData= torch.cat((xTrainingData, xTrain), dim=0)\n",
    "  yTrainingData= torch.cat((yTrainingData, yTrain), dim=0)"
   ]
  },
  {
   "cell_type": "markdown",
   "metadata": {
    "id": "DqJh7t8NU8hc"
   },
   "source": [
    "###Generating Testing Data"
   ]
  },
  {
   "cell_type": "code",
   "execution_count": null,
   "metadata": {
    "id": "drzPQP28U-xd"
   },
   "outputs": [],
   "source": [
    "testingCompleteness = 0\n",
    "iterations_done = 0\n",
    "\n",
    "yTestingData= torch.empty((0))\n",
    "xTestingData= torch.empty((0))\n",
    "\n",
    "while iterations_done < 50:\n",
    "  game.pinged = set()\n",
    "  xTest = torch.empty((0))\n",
    "  yTest = torch.empty((0))\n",
    "\n",
    "  for i in range(d):\n",
    "    for j in range(d):\n",
    "      if game.ship_display[i][j] != '■':\n",
    "        game.ship_display[i][j] = 'O'\n",
    "\n",
    "  #place bot in ship\n",
    "  place_element(game,'B')\n",
    "  #place rat in ship\n",
    "  place_element(game,'R')\n",
    "\n",
    "  total_moves, movements_taken, cell_sensing_actions, rat_detecting_actions, xTest,yTest = bot2(game, 0.1, xTest, yTest)\n",
    "  iterations_done += 1\n",
    "\n",
    "  yTest = movements_taken+cell_sensing_actions+rat_detecting_actions-yTest\n",
    "\n",
    "  xTest = xTest.reshape(-1,1800)\n",
    "  xTestingData= torch.cat((xTestingData, xTest), dim=0)\n",
    "  yTestingData = torch.cat((yTestingData, yTest), dim=0)"
   ]
  },
  {
   "cell_type": "markdown",
   "metadata": {
    "id": "FTH57OVRychJ"
   },
   "source": [
    "##**Neural Network**\n",
    "\n"
   ]
  },
  {
   "cell_type": "code",
   "execution_count": 20,
   "metadata": {
    "id": "-qKsg_XLyiVE"
   },
   "outputs": [],
   "source": [
    "import numpy as np\n",
    "import torch\n",
    "import torchvision\n",
    "import torchvision.transforms as transforms\n",
    "import torchvision.datasets as datasets\n",
    "import torch.nn as nn\n",
    "import torch.optim as optim\n",
    "import random\n",
    "import matplotlib.pyplot as plt\n",
    "import time\n",
    "import math"
   ]
  },
  {
   "cell_type": "code",
   "execution_count": null,
   "metadata": {
    "id": "0zJL0po8y-dy"
   },
   "outputs": [],
   "source": [
    "#Creates random batches of data\n",
    "def get_batch(x, y, batch_size):\n",
    "    n = x.shape[0]\n",
    "\n",
    "    batch_indices = random.sample( [ i for i in range(n) ], k = batch_size )\n",
    "\n",
    "    x_batch = x[ batch_indices ]\n",
    "    y_batch = y[ batch_indices ]\n",
    "\n",
    "    return x_batch, y_batch"
   ]
  },
  {
   "cell_type": "code",
   "execution_count": null,
   "metadata": {
    "colab": {
     "base_uri": "https://localhost:8080/",
     "height": 108
    },
    "id": "yA4RQyzDzJak",
    "outputId": "1924a211-a74a-412f-9a4f-fa362b78c944"
   },
   "outputs": [],
   "source": [
    "#Defines the neural network\n",
    "class NN(nn.Module):\n",
    "    def __init__(self):\n",
    "        super(NN, self).__init__()\n",
    "\n",
    "        self.layer_1 = torch.nn.Linear( in_features = 1800, out_features = 900, bias=True )\n",
    "\n",
    "        self.layers_hidden = nn.ModuleList()\n",
    "        self.layers_hidden.append(torch.nn.Linear( in_features = 900, out_features = 400, bias=True ))\n",
    "        self.layers_hidden.append(torch.nn.Linear( in_features = 400, out_features = 50, bias=True ))\n",
    "\n",
    "        self.layer_out = torch.nn.Linear( in_features = 50, out_features = 1, bias=True )\n",
    "\n",
    "    def forward(self, input_tensor):\n",
    "        flattened = nn.Flatten()( input_tensor )\n",
    "\n",
    "        logits = self.layer_1( flattened )\n",
    "        logits = torch.nn.Sigmoid()(logits)\n",
    "\n",
    "        for layer in self.layers_hidden:\n",
    "          logits = layer(logits)\n",
    "          logits = torch.nn.Sigmoid()(logits)\n",
    "\n",
    "        logits = self.layer_out(logits)\n",
    "\n",
    "        return logits\n"
   ]
  },
  {
   "cell_type": "code",
   "execution_count": null,
   "metadata": {},
   "outputs": [],
   "source": [
    "#Runs a neural network on a set of training and testing data\n",
    "def runModel(model, optimizer, loss_function, batch_size, epochs, xTrainingData, yTrainingData, xTestingData, yTestingData):\n",
    "  trainLossOverTime = []\n",
    "  testLossOverTime = []\n",
    "  accuracyOverTime = {}\n",
    "  \n",
    "  for epoch in range(epochs):\n",
    "      train_loss = 0\n",
    "      for batch in range( xTrainingData.shape[0] // batch_size):\n",
    "        x_batch, y_batch = get_batch(xTrainingData, yTrainingData, batch_size)\n",
    "\n",
    "        optimizer.zero_grad()\n",
    "\n",
    "        logits = model( x_batch ).squeeze(1)\n",
    "        loss = loss_function( logits, y_batch )\n",
    "\n",
    "        loss.backward()\n",
    "        optimizer.step()\n",
    "\n",
    "        train_loss += loss.item()\n",
    "      endTime = time.time()\n",
    "\n",
    "      trainLossOverTime.append(train_loss / (xTrainingData.shape[0] // batch_size))\n",
    "\n",
    "      test_loss = 0\n",
    "      for batch in range( xTestingData.shape[0] // batch_size ):\n",
    "        x_batch, y_batch = get_batch(xTestingData, yTestingData, batch_size)\n",
    "        logits = model( x_batch ).squeeze(1)\n",
    "        test_loss += loss_function(logits, y_batch).item()\n",
    "\n",
    "        actuals = y_batch.tolist()\n",
    "        estimates = logits.tolist()\n",
    "\n",
    "        for i in range(batch_size):\n",
    "          if accuracyOverTime.get(actuals[i]):\n",
    "            accuracyOverTime.update({actuals[i] : ((actuals[i]-estimates[i])**2, accuracyOverTime.get(actuals[i])[1] + 1)})\n",
    "          else:\n",
    "            accuracyOverTime.update( {actuals[i] : ((actuals[i]-estimates[i])**2, 1)} )\n",
    "      testLossOverTime.append(test_loss / (xTestingData.shape[0] // batch_size))\n",
    "\n",
    "  return trainLossOverTime, testLossOverTime, accuracyOverTime"
   ]
  },
  {
   "cell_type": "code",
   "execution_count": 125,
   "metadata": {},
   "outputs": [],
   "source": [
    "model = NN()\n",
    "optimizer = optim.Adam(model.parameters(), lr = 0.002 )\n",
    "loss_function = torch.nn.MSELoss()\n",
    "batch_size = 256\n",
    "epochs = 40\n",
    "trainLossOverTime, testLossOverTime, accuracyOverTime = runModel(model, optimizer, loss_function, batch_size, epochs, xTrainingData, yTrainingData, xTestingData, yTestingData)\n"
   ]
  },
  {
   "cell_type": "code",
   "execution_count": 126,
   "metadata": {},
   "outputs": [
    {
     "data": {
      "image/png": "[encoded data removed]",
      "text/plain": [
       "<Figure size 640x480 with 1 Axes>"
      ]
     },
     "metadata": {},
     "output_type": "display_data"
    }
   ],
   "source": [
    "plt.figure()\n",
    "plt.title(\"Training and Testing Loss by Epoch\")\n",
    "plt.plot(trainLossOverTime, color='red', label='Training')\n",
    "plt.plot(testLossOverTime, color='blue', label='Testing')\n",
    "plt.legend()\n",
    "plt.show()"
   ]
  },
  {
   "cell_type": "markdown",
   "metadata": {},
   "source": [
    "At first, the network improves very fast over the first few epochs, going from an mse of 14000 to start down to around 6000. However, after the first 5 or so epochs, the performance of the network starts to level out."
   ]
  },
  {
   "cell_type": "code",
   "execution_count": 108,
   "metadata": {},
   "outputs": [],
   "source": [
    "results = [0]*int(max(accuracyOverTime, key=accuracyOverTime.get))\n",
    "for x in accuracyOverTime:\n",
    "    results[int(x)-1] = accuracyOverTime.get(x)[0]/accuracyOverTime.get(x)[1]"
   ]
  },
  {
   "cell_type": "code",
   "execution_count": 111,
   "metadata": {},
   "outputs": [
    {
     "data": {
      "image/png": "[encoded data removed]",
      "text/plain": [
       "<Figure size 640x480 with 1 Axes>"
      ]
     },
     "metadata": {},
     "output_type": "display_data"
    }
   ],
   "source": [
    "plt.figure()\n",
    "plt.title(\"Accuracy by Time Horizon\")\n",
    "plt.xlabel(\"Time Horizon\")\n",
    "plt.ylabel(\"Mean Squared Error\")\n",
    "plt.plot(results, color='red')\n",
    "plt.show()"
   ]
  },
  {
   "cell_type": "markdown",
   "metadata": {},
   "source": [
    "Clearly the time horizon has a large impact in the accuracy of the move prediction. From 1 move left to about 200, there seems to be very little difference in the predictions and the actual values. However, as the game gets farther away from completion, the neural network gets worse and worse and predicting how long the game will take. I believe one of the reasons for this is because at the beginning of the game, the bot does not even have the information of where it is so, so the network does not have that information to help decide how long the game will take."
   ]
  },
  {
   "cell_type": "markdown",
   "metadata": {},
   "source": [
    "**How you are representing your input data:**\n",
    "\n",
    "Our input data consists of two knowledge bases, the KB of the possible bot locations, and the KB of the rat location probabilities. Each knowledge base is a dxd matrix (in this case d=30) which represents the ship with open cells and closed cells. For the KB with the possible bot locations, a 0 represents a cell that is closed, a 1 represents a cell that is open but the bot cannot possibly be there, and 2 represents a cell in which the bot could be. For the KB with the rat location probabilities, each cell consists of a number between 0 and 1, which represents the probability that the rat is located in that cell. After any action the bot takes (cell sensing, pinging, or walking) we reshape the bot location and rat location probability knowledge bases into 1x900 vectors. We concatonate the flattened bot KB and the rat KB, respectively. This new 1x1800 vector is our input data.\n",
    "\n",
    "**How you are representing your output data**\n",
    "\n",
    "Our output data is a scalar value which, given a certain game state, represents the bot's prediction of how many moves are left to reach the rat from the initial state.\n",
    "\n",
    "\n",
    "**The model architecture you are using** *Note: you need to be clear about any choices you make, no magic numbers no choosing three layers just because you felt like it.*\n",
    "The structure we chose for the neural network were a sequence of linear layers. We started out with an input layer of 1800 features, this would take in the 1800 data points that we collected for our input. Then a layer passes those 1800 features to 900 features. Then three more layers from 900 to 400, 400 to 50, and finally an output layer that takes the 50 features and boils them down to one prediction feature. The reason why we decided on this gradual descent of features is because we didn't want too much information to be lost when passed from one layer to another. We felt that this was a sufficient number of layers to get an accurate prediction without costing us too much in terms of training time. We also put a sigmoid function between each hidden layer to introduce some non-linearity between the layers. This is to prevent the network from searching for linear patterns in the data, allowing the network to develop more complex patterns. The reason we landed on sigmoid functions in particular is that most of our data is going to be between 0 and 2, and we found that the sigmoid function has interesting values at these points.\n",
    "\n",
    "**The loss you are using to evaluate your model**\n",
    "We utilized the Mean Squared Error loss function to calculate the loss. We chose this loss function because we want the network to make a numerical prediction as opposed to a classification. we are interested in how close the network's estimate can get to the actual value. The closer the network can get to the actual number of moves, the lower the mse loss will be.\n",
    "\n",
    "\n",
    "**How you are collecting your data**\n",
    "We collected our data in one very long vector of concatonated tensors. We had the bot play out different games with randomized rat and bot locations. After every action of the bot, we would take a snapshot of the rat and bot location knowledge bases and add them to the tensor of data. These knowledge bases would be the x data that we will feed into the neural network. We would also keep track of the number of actions the bot has taken over the game. After the game is over and we know how many actions the bot used, we can subtract the number of moves the bot made at each given time from the total number of moves to get the number of moves left. This would constitute our y data.\n"
   ]
  }
 ],
 "metadata": {
  "colab": {
   "collapsed_sections": [
    "4MUkxbnhmRxD",
    "M9WDSXleXmdk",
    "ym3PfAp0ga17",
    "qdUjaizRBkX3",
    "-aIXd5L5UzFA",
    "iZy2G7QjuWqc",
    "MeXCshB6ueZD",
    "PTyimN3QgZi0",
    "Zi4-gC36jTz6"
   ],
   "provenance": []
  },
  "kernelspec": {
   "display_name": "Python 3",
   "language": "python",
   "name": "python3"
  },
  "language_info": {
   "codemirror_mode": {
    "name": "ipython",
    "version": 3
   },
   "file_extension": ".py",
   "mimetype": "text/x-python",
   "name": "python",
   "nbconvert_exporter": "python",
   "pygments_lexer": "ipython3",
   "version": "3.12.8"
  }
 },
 "nbformat": 4,
 "nbformat_minor": 0
}
